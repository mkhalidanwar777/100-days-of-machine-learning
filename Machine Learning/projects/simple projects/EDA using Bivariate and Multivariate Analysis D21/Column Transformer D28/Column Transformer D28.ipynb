{
 "cells": [
  {
   "cell_type": "code",
   "execution_count": 24,
   "id": "87273a4e-b66e-449d-8d6a-6a537a37c78e",
   "metadata": {},
   "outputs": [],
   "source": [
    "import numpy as np\n",
    "import pandas as pd"
   ]
  },
  {
   "cell_type": "code",
   "execution_count": 25,
   "id": "9291cfcb-366f-4337-b519-1e7e82658a94",
   "metadata": {},
   "outputs": [],
   "source": [
    "df=pd.read_csv('covid_toy.csv')"
   ]
  },
  {
   "cell_type": "code",
   "execution_count": 26,
   "id": "f2110c9a-b95a-458f-ad7e-93c3e639f5b5",
   "metadata": {},
   "outputs": [
    {
     "data": {
      "text/html": [
       "<div>\n",
       "<style scoped>\n",
       "    .dataframe tbody tr th:only-of-type {\n",
       "        vertical-align: middle;\n",
       "    }\n",
       "\n",
       "    .dataframe tbody tr th {\n",
       "        vertical-align: top;\n",
       "    }\n",
       "\n",
       "    .dataframe thead th {\n",
       "        text-align: right;\n",
       "    }\n",
       "</style>\n",
       "<table border=\"1\" class=\"dataframe\">\n",
       "  <thead>\n",
       "    <tr style=\"text-align: right;\">\n",
       "      <th></th>\n",
       "      <th>age</th>\n",
       "      <th>gender</th>\n",
       "      <th>fever</th>\n",
       "      <th>cough</th>\n",
       "      <th>city</th>\n",
       "      <th>has_covid</th>\n",
       "    </tr>\n",
       "  </thead>\n",
       "  <tbody>\n",
       "    <tr>\n",
       "      <th>0</th>\n",
       "      <td>60</td>\n",
       "      <td>Male</td>\n",
       "      <td>103.0</td>\n",
       "      <td>Mild</td>\n",
       "      <td>Kolkata</td>\n",
       "      <td>No</td>\n",
       "    </tr>\n",
       "    <tr>\n",
       "      <th>1</th>\n",
       "      <td>27</td>\n",
       "      <td>Male</td>\n",
       "      <td>100.0</td>\n",
       "      <td>Mild</td>\n",
       "      <td>Delhi</td>\n",
       "      <td>Yes</td>\n",
       "    </tr>\n",
       "    <tr>\n",
       "      <th>2</th>\n",
       "      <td>42</td>\n",
       "      <td>Male</td>\n",
       "      <td>101.0</td>\n",
       "      <td>Mild</td>\n",
       "      <td>Delhi</td>\n",
       "      <td>No</td>\n",
       "    </tr>\n",
       "    <tr>\n",
       "      <th>3</th>\n",
       "      <td>31</td>\n",
       "      <td>Female</td>\n",
       "      <td>98.0</td>\n",
       "      <td>Mild</td>\n",
       "      <td>Kolkata</td>\n",
       "      <td>No</td>\n",
       "    </tr>\n",
       "    <tr>\n",
       "      <th>4</th>\n",
       "      <td>65</td>\n",
       "      <td>Female</td>\n",
       "      <td>101.0</td>\n",
       "      <td>Mild</td>\n",
       "      <td>Mumbai</td>\n",
       "      <td>No</td>\n",
       "    </tr>\n",
       "  </tbody>\n",
       "</table>\n",
       "</div>"
      ],
      "text/plain": [
       "   age  gender  fever cough     city has_covid\n",
       "0   60    Male  103.0  Mild  Kolkata        No\n",
       "1   27    Male  100.0  Mild    Delhi       Yes\n",
       "2   42    Male  101.0  Mild    Delhi        No\n",
       "3   31  Female   98.0  Mild  Kolkata        No\n",
       "4   65  Female  101.0  Mild   Mumbai        No"
      ]
     },
     "execution_count": 26,
     "metadata": {},
     "output_type": "execute_result"
    }
   ],
   "source": [
    "df.head()"
   ]
  },
  {
   "cell_type": "code",
   "execution_count": 27,
   "id": "acb83dfa-fd02-48fa-b890-2e123b779274",
   "metadata": {},
   "outputs": [],
   "source": [
    "from sklearn.model_selection import train_test_split\n",
    "x_train,x_test,y_train,y_test=train_test_split(df.drop(columns=['has_covid']),df['has_covid'],test_size=0.2)"
   ]
  },
  {
   "cell_type": "code",
   "execution_count": 28,
   "id": "89686054-df06-4c9f-81e6-289d7f52b4a7",
   "metadata": {},
   "outputs": [],
   "source": [
    "from sklearn.impute import SimpleImputer\n",
    "from sklearn.preprocessing import OrdinalEncoder\n",
    "from sklearn.preprocessing import OneHotEncoder"
   ]
  },
  {
   "cell_type": "code",
   "execution_count": 29,
   "id": "61be622a-0745-4ed8-91f6-7b335583a754",
   "metadata": {},
   "outputs": [],
   "source": [
    "from sklearn.compose import ColumnTransformer"
   ]
  },
  {
   "cell_type": "code",
   "execution_count": 32,
   "id": "17c0bb75-47bd-45ba-9d1e-dcaee4c1bc4b",
   "metadata": {},
   "outputs": [],
   "source": [
    "transformer=ColumnTransformer(transformers=[\n",
    "    ('tnf1',SimpleImputer(),['fever']),\n",
    "    ('tnf2',OrdinalEncoder(categories=[['Mild','Strong']]) ,['cough']),\n",
    "    ('tfn3',OneHotEncoder(drop='first',dtype=np.int32),['gender','city'])\n",
    "    ],remainder='passthrough')"
   ]
  },
  {
   "cell_type": "code",
   "execution_count": 35,
   "id": "fe20be00-38f2-41e6-b188-d8adfa44fcdd",
   "metadata": {},
   "outputs": [
    {
     "data": {
      "text/plain": [
       "array([[104.        ,   0.        ,   1.        ,   0.        ,\n",
       "          1.        ,   0.        ,  51.        ],\n",
       "       [ 98.        ,   1.        ,   1.        ,   0.        ,\n",
       "          0.        ,   1.        ,  23.        ],\n",
       "       [100.        ,   0.        ,   1.        ,   1.        ,\n",
       "          0.        ,   0.        ,  27.        ],\n",
       "       [ 99.        ,   1.        ,   0.        ,   0.        ,\n",
       "          0.        ,   0.        ,  49.        ],\n",
       "       [100.        ,   1.        ,   0.        ,   0.        ,\n",
       "          1.        ,   0.        ,  11.        ],\n",
       "       [ 98.        ,   0.        ,   0.        ,   1.        ,\n",
       "          0.        ,   0.        ,  80.        ],\n",
       "       [101.        ,   0.        ,   0.        ,   0.        ,\n",
       "          0.        ,   0.        ,  38.        ],\n",
       "       [102.        ,   1.        ,   0.        ,   0.        ,\n",
       "          1.        ,   0.        ,  82.        ],\n",
       "       [101.        ,   0.        ,   1.        ,   1.        ,\n",
       "          0.        ,   0.        ,  15.        ],\n",
       "       [ 99.        ,   0.        ,   1.        ,   1.        ,\n",
       "          0.        ,   0.        ,  65.        ],\n",
       "       [102.        ,   0.        ,   1.        ,   0.        ,\n",
       "          1.        ,   0.        ,   5.        ],\n",
       "       [ 99.        ,   0.        ,   0.        ,   0.        ,\n",
       "          0.        ,   1.        ,  60.        ],\n",
       "       [100.91428571,   1.        ,   0.        ,   0.        ,\n",
       "          0.        ,   1.        ,  34.        ],\n",
       "       [104.        ,   0.        ,   1.        ,   0.        ,\n",
       "          0.        ,   1.        ,  42.        ],\n",
       "       [ 98.        ,   1.        ,   1.        ,   0.        ,\n",
       "          1.        ,   0.        ,  34.        ],\n",
       "       [ 99.        ,   1.        ,   0.        ,   0.        ,\n",
       "          1.        ,   0.        ,  25.        ],\n",
       "       [100.91428571,   1.        ,   0.        ,   0.        ,\n",
       "          0.        ,   0.        ,  42.        ],\n",
       "       [100.91428571,   0.        ,   1.        ,   1.        ,\n",
       "          0.        ,   0.        ,  38.        ],\n",
       "       [104.        ,   0.        ,   1.        ,   0.        ,\n",
       "          0.        ,   0.        ,  51.        ],\n",
       "       [101.        ,   1.        ,   0.        ,   1.        ,\n",
       "          0.        ,   0.        ,  34.        ],\n",
       "       [100.91428571,   1.        ,   1.        ,   0.        ,\n",
       "          1.        ,   0.        ,  79.        ],\n",
       "       [100.        ,   0.        ,   0.        ,   0.        ,\n",
       "          1.        ,   0.        ,   5.        ],\n",
       "       [103.        ,   0.        ,   0.        ,   0.        ,\n",
       "          1.        ,   0.        ,  50.        ],\n",
       "       [100.        ,   1.        ,   0.        ,   0.        ,\n",
       "          0.        ,   0.        ,  47.        ],\n",
       "       [100.91428571,   0.        ,   0.        ,   1.        ,\n",
       "          0.        ,   0.        ,  75.        ],\n",
       "       [102.        ,   1.        ,   1.        ,   1.        ,\n",
       "          0.        ,   0.        ,  20.        ],\n",
       "       [101.        ,   1.        ,   1.        ,   0.        ,\n",
       "          0.        ,   0.        ,  14.        ],\n",
       "       [102.        ,   1.        ,   0.        ,   0.        ,\n",
       "          0.        ,   0.        ,  24.        ],\n",
       "       [101.        ,   1.        ,   0.        ,   1.        ,\n",
       "          0.        ,   0.        ,  68.        ],\n",
       "       [100.        ,   0.        ,   1.        ,   0.        ,\n",
       "          0.        ,   0.        ,  80.        ],\n",
       "       [ 98.        ,   1.        ,   0.        ,   0.        ,\n",
       "          0.        ,   1.        ,  69.        ],\n",
       "       [ 98.        ,   1.        ,   0.        ,   0.        ,\n",
       "          0.        ,   1.        ,   5.        ],\n",
       "       [ 98.        ,   0.        ,   0.        ,   0.        ,\n",
       "          1.        ,   0.        ,  31.        ],\n",
       "       [104.        ,   0.        ,   0.        ,   0.        ,\n",
       "          1.        ,   0.        ,  17.        ],\n",
       "       [100.91428571,   0.        ,   1.        ,   0.        ,\n",
       "          0.        ,   1.        ,  23.        ],\n",
       "       [101.        ,   0.        ,   1.        ,   1.        ,\n",
       "          0.        ,   0.        ,  42.        ],\n",
       "       [ 99.        ,   0.        ,   0.        ,   0.        ,\n",
       "          0.        ,   0.        ,  22.        ],\n",
       "       [ 99.        ,   0.        ,   0.        ,   0.        ,\n",
       "          0.        ,   1.        ,  14.        ],\n",
       "       [102.        ,   0.        ,   0.        ,   1.        ,\n",
       "          0.        ,   0.        ,  49.        ],\n",
       "       [103.        ,   1.        ,   1.        ,   0.        ,\n",
       "          0.        ,   0.        ,  46.        ],\n",
       "       [104.        ,   0.        ,   1.        ,   0.        ,\n",
       "          0.        ,   0.        ,  25.        ],\n",
       "       [104.        ,   0.        ,   1.        ,   0.        ,\n",
       "          0.        ,   1.        ,  44.        ],\n",
       "       [101.        ,   0.        ,   0.        ,   0.        ,\n",
       "          1.        ,   0.        ,   8.        ],\n",
       "       [101.        ,   0.        ,   1.        ,   1.        ,\n",
       "          0.        ,   0.        ,  19.        ],\n",
       "       [103.        ,   0.        ,   0.        ,   1.        ,\n",
       "          0.        ,   0.        ,  73.        ],\n",
       "       [103.        ,   0.        ,   0.        ,   0.        ,\n",
       "          1.        ,   0.        ,  48.        ],\n",
       "       [104.        ,   1.        ,   0.        ,   1.        ,\n",
       "          0.        ,   0.        ,  75.        ],\n",
       "       [100.91428571,   1.        ,   1.        ,   0.        ,\n",
       "          1.        ,   0.        ,  71.        ],\n",
       "       [ 99.        ,   1.        ,   1.        ,   0.        ,\n",
       "          0.        ,   0.        ,  66.        ],\n",
       "       [104.        ,   0.        ,   1.        ,   0.        ,\n",
       "          1.        ,   0.        ,  16.        ],\n",
       "       [100.91428571,   0.        ,   0.        ,   0.        ,\n",
       "          0.        ,   0.        ,  84.        ],\n",
       "       [104.        ,   1.        ,   0.        ,   0.        ,\n",
       "          1.        ,   0.        ,  54.        ],\n",
       "       [104.        ,   0.        ,   0.        ,   0.        ,\n",
       "          0.        ,   0.        ,  12.        ],\n",
       "       [ 98.        ,   0.        ,   1.        ,   0.        ,\n",
       "          1.        ,   0.        ,  24.        ],\n",
       "       [101.        ,   0.        ,   0.        ,   1.        ,\n",
       "          0.        ,   0.        ,  64.        ],\n",
       "       [104.        ,   0.        ,   0.        ,   0.        ,\n",
       "          0.        ,   0.        ,  18.        ],\n",
       "       [ 98.        ,   0.        ,   1.        ,   1.        ,\n",
       "          0.        ,   0.        ,  83.        ],\n",
       "       [ 99.        ,   1.        ,   0.        ,   1.        ,\n",
       "          0.        ,   0.        ,  59.        ],\n",
       "       [ 98.        ,   1.        ,   1.        ,   0.        ,\n",
       "          0.        ,   0.        ,  12.        ],\n",
       "       [ 98.        ,   0.        ,   1.        ,   0.        ,\n",
       "          0.        ,   0.        ,  73.        ],\n",
       "       [104.        ,   1.        ,   0.        ,   0.        ,\n",
       "          0.        ,   0.        ,  56.        ],\n",
       "       [102.        ,   1.        ,   0.        ,   0.        ,\n",
       "          0.        ,   0.        ,  82.        ],\n",
       "       [100.        ,   1.        ,   0.        ,   0.        ,\n",
       "          0.        ,   0.        ,  19.        ],\n",
       "       [104.        ,   0.        ,   0.        ,   0.        ,\n",
       "          1.        ,   0.        ,   6.        ],\n",
       "       [101.        ,   0.        ,   0.        ,   1.        ,\n",
       "          0.        ,   0.        ,  49.        ],\n",
       "       [ 98.        ,   0.        ,   0.        ,   0.        ,\n",
       "          0.        ,   1.        ,  65.        ],\n",
       "       [ 99.        ,   0.        ,   1.        ,   0.        ,\n",
       "          0.        ,   0.        ,  65.        ],\n",
       "       [101.        ,   1.        ,   1.        ,   0.        ,\n",
       "          0.        ,   0.        ,  47.        ],\n",
       "       [102.        ,   0.        ,   1.        ,   0.        ,\n",
       "          0.        ,   1.        ,  74.        ],\n",
       "       [103.        ,   0.        ,   1.        ,   0.        ,\n",
       "          1.        ,   0.        ,  83.        ],\n",
       "       [100.        ,   0.        ,   1.        ,   0.        ,\n",
       "          1.        ,   0.        ,  55.        ],\n",
       "       [102.        ,   0.        ,   1.        ,   0.        ,\n",
       "          0.        ,   0.        ,  64.        ],\n",
       "       [100.        ,   0.        ,   1.        ,   0.        ,\n",
       "          0.        ,   0.        ,  10.        ],\n",
       "       [ 98.        ,   0.        ,   0.        ,   0.        ,\n",
       "          1.        ,   0.        ,  26.        ],\n",
       "       [100.        ,   1.        ,   0.        ,   0.        ,\n",
       "          1.        ,   0.        ,  13.        ],\n",
       "       [100.        ,   0.        ,   0.        ,   0.        ,\n",
       "          1.        ,   0.        ,  19.        ],\n",
       "       [103.        ,   0.        ,   0.        ,   0.        ,\n",
       "          0.        ,   0.        ,  16.        ],\n",
       "       [100.        ,   0.        ,   1.        ,   0.        ,\n",
       "          0.        ,   0.        ,  11.        ],\n",
       "       [100.91428571,   0.        ,   1.        ,   0.        ,\n",
       "          1.        ,   0.        ,  82.        ],\n",
       "       [100.91428571,   1.        ,   0.        ,   0.        ,\n",
       "          0.        ,   1.        ,  20.        ]])"
      ]
     },
     "execution_count": 35,
     "metadata": {},
     "output_type": "execute_result"
    }
   ],
   "source": [
    "transformer.fit_transform(x_train)"
   ]
  },
  {
   "cell_type": "code",
   "execution_count": 36,
   "id": "813a9cea-18d9-4e8e-a0c9-239f19b486f8",
   "metadata": {},
   "outputs": [
    {
     "data": {
      "text/plain": [
       "(80, 7)"
      ]
     },
     "execution_count": 36,
     "metadata": {},
     "output_type": "execute_result"
    }
   ],
   "source": [
    "transformer.fit_transform(x_train).shape"
   ]
  },
  {
   "cell_type": "code",
   "execution_count": 37,
   "id": "c7d8018e-eea6-417a-95ce-350814e7b180",
   "metadata": {},
   "outputs": [
    {
     "data": {
      "text/plain": [
       "array([[102.,   0.,   0.,   0.,   0.,   0.,  69.],\n",
       "       [101.,   0.,   0.,   0.,   0.,   1.,  65.],\n",
       "       [ 98.,   0.,   0.,   0.,   0.,   0.,  64.],\n",
       "       [101.,   0.,   0.,   0.,   0.,   1.,  81.],\n",
       "       [ 98.,   1.,   0.,   0.,   0.,   1.,  81.],\n",
       "       [100.,   0.,   1.,   0.,   1.,   0.,  27.],\n",
       "       [101.,   0.,   0.,   0.,   1.,   0.,  83.],\n",
       "       [101.,   0.,   0.,   0.,   0.,   0.,  20.],\n",
       "       [103.,   1.,   1.,   0.,   1.,   0.,  70.],\n",
       "       [ 98.,   1.,   0.,   1.,   0.,   0.,  40.],\n",
       "       [104.,   1.,   0.,   1.,   0.,   0.,  34.],\n",
       "       [ 98.,   1.,   0.,   0.,   1.,   0.,  10.],\n",
       "       [101.,   1.,   0.,   0.,   1.,   0.,  51.],\n",
       "       [100.,   0.,   1.,   1.,   0.,   0.,  27.],\n",
       "       [ 99.,   0.,   1.,   0.,   0.,   0.,  72.],\n",
       "       [ 98.,   1.,   0.,   0.,   1.,   0.,  71.],\n",
       "       [103.,   0.,   0.,   0.,   1.,   0.,  69.],\n",
       "       [101.,   0.,   0.,   0.,   0.,   1.,  19.],\n",
       "       [103.,   0.,   1.,   0.,   1.,   0.,  60.],\n",
       "       [102.,   1.,   0.,   1.,   0.,   0.,  33.]])"
      ]
     },
     "execution_count": 37,
     "metadata": {},
     "output_type": "execute_result"
    }
   ],
   "source": [
    "transformer.fit_transform(x_test)"
   ]
  },
  {
   "cell_type": "code",
   "execution_count": 38,
   "id": "ca0f2e59-3c1a-4624-9b10-4d13410d562a",
   "metadata": {},
   "outputs": [
    {
     "data": {
      "text/plain": [
       "(20, 7)"
      ]
     },
     "execution_count": 38,
     "metadata": {},
     "output_type": "execute_result"
    }
   ],
   "source": [
    "transformer.fit_transform(x_test).shape"
   ]
  },
  {
   "cell_type": "markdown",
   "id": "58efe20b-3091-4d76-bea9-26fd72abf04b",
   "metadata": {},
   "source": [
    "## without Column Transformer who to solve this problem"
   ]
  },
  {
   "cell_type": "markdown",
   "id": "1da590ab-3a16-4c06-bc75-500648403ac7",
   "metadata": {},
   "source": [
    "### 1st simple Imputer on Fever Column"
   ]
  },
  {
   "cell_type": "code",
   "execution_count": 40,
   "id": "6f8a6a35-4f93-45d8-9c17-f466e54ef026",
   "metadata": {},
   "outputs": [],
   "source": [
    "si=SimpleImputer()\n",
    "x_train_fever=si.fit_transform(x_train[['fever']])\n",
    "\n",
    "x_test_fever=si.fit_transform(x_test[['fever']])"
   ]
  },
  {
   "cell_type": "code",
   "execution_count": 41,
   "id": "2d2cf0b0-f13d-4db5-b9cf-157735d646b4",
   "metadata": {},
   "outputs": [
    {
     "data": {
      "text/plain": [
       "(80, 1)"
      ]
     },
     "execution_count": 41,
     "metadata": {},
     "output_type": "execute_result"
    }
   ],
   "source": [
    "x_train_fever.shape"
   ]
  },
  {
   "cell_type": "markdown",
   "id": "3a095b89-275d-47f7-8395-dcc1b8564abc",
   "metadata": {},
   "source": [
    "## 2nd OrdinalEncoding On Cough Column "
   ]
  },
  {
   "cell_type": "code",
   "execution_count": 42,
   "id": "05279d95-88cc-45c6-9233-a97ec5dbb6b3",
   "metadata": {},
   "outputs": [],
   "source": [
    "oe=OrdinalEncoder(categories=[['Mild','Strong']])\n",
    "\n",
    "x_train_cough=oe.fit_transform(x_train[['cough']])\n",
    "\n",
    "x_test_cough=oe.fit_transform(x_test[['cough']])"
   ]
  },
  {
   "cell_type": "code",
   "execution_count": 43,
   "id": "1eb9f45a-b39d-4590-a90f-955ba51af37a",
   "metadata": {},
   "outputs": [
    {
     "data": {
      "text/plain": [
       "(80, 1)"
      ]
     },
     "execution_count": 43,
     "metadata": {},
     "output_type": "execute_result"
    }
   ],
   "source": [
    "x_train_cough.shape"
   ]
  },
  {
   "cell_type": "markdown",
   "id": "1381ff55-0846-4221-8cea-858084cc27f0",
   "metadata": {},
   "source": [
    "## 3rd OneHotEncoding On Gender and City columns"
   ]
  },
  {
   "cell_type": "code",
   "execution_count": 44,
   "id": "99f8f5f1-d09f-42d4-879d-4e4f55395a11",
   "metadata": {},
   "outputs": [],
   "source": [
    "ohe=OneHotEncoder(drop='first',dtype=np.int32)\n",
    "\n",
    "x_train_gender_city=ohe.fit_transform(x_train[['gender','city']])\n",
    "\n",
    "x_test_gender_city=ohe.fit_transform(x_test[['gender','city']])"
   ]
  },
  {
   "cell_type": "code",
   "execution_count": 45,
   "id": "d3bdb356-7e5a-45a1-8172-6556a55048f8",
   "metadata": {},
   "outputs": [
    {
     "data": {
      "text/plain": [
       "(80, 4)"
      ]
     },
     "execution_count": 45,
     "metadata": {},
     "output_type": "execute_result"
    }
   ],
   "source": [
    "x_train_gender_city.shape"
   ]
  },
  {
   "cell_type": "code",
   "execution_count": 47,
   "id": "a3f71484-db19-4bf7-bced-2e26f4f231ed",
   "metadata": {},
   "outputs": [
    {
     "data": {
      "text/plain": [
       "2"
      ]
     },
     "execution_count": 47,
     "metadata": {},
     "output_type": "execute_result"
    }
   ],
   "source": [
    "df['gender'].nunique()"
   ]
  },
  {
   "cell_type": "code",
   "execution_count": 49,
   "id": "1679069e-fbb7-48c8-b71f-d7691f7a7709",
   "metadata": {},
   "outputs": [
    {
     "data": {
      "text/plain": [
       "4"
      ]
     },
     "execution_count": 49,
     "metadata": {},
     "output_type": "execute_result"
    }
   ],
   "source": [
    "df['city'].nunique()"
   ]
  },
  {
   "cell_type": "markdown",
   "id": "f0856e2e-ecaa-41e5-b5cf-ca079b17eeb4",
   "metadata": {},
   "source": [
    "#### Now Age column"
   ]
  },
  {
   "cell_type": "markdown",
   "id": "7c5b02c2-b1e0-422c-b6fc-e0c8f0957333",
   "metadata": {},
   "source": [
    "## Extracting Age"
   ]
  },
  {
   "cell_type": "code",
   "execution_count": 57,
   "id": "729dd49b-7c6c-496d-9c47-3174f949412e",
   "metadata": {},
   "outputs": [],
   "source": [
    "x_train_age=x_train.drop(columns=['gender','fever','cough','city']).values\n",
    "\n",
    "x_test_age=x_test.drop(columns=['gender','fever','cough','city']).values"
   ]
  },
  {
   "cell_type": "code",
   "execution_count": 56,
   "id": "6313d21d-e84a-4457-b976-28159cba0abe",
   "metadata": {},
   "outputs": [
    {
     "data": {
      "text/plain": [
       "array([[51],\n",
       "       [23],\n",
       "       [27],\n",
       "       [49],\n",
       "       [11],\n",
       "       [80],\n",
       "       [38],\n",
       "       [82],\n",
       "       [15],\n",
       "       [65],\n",
       "       [ 5],\n",
       "       [60],\n",
       "       [34],\n",
       "       [42],\n",
       "       [34],\n",
       "       [25],\n",
       "       [42],\n",
       "       [38],\n",
       "       [51],\n",
       "       [34],\n",
       "       [79],\n",
       "       [ 5],\n",
       "       [50],\n",
       "       [47],\n",
       "       [75],\n",
       "       [20],\n",
       "       [14],\n",
       "       [24],\n",
       "       [68],\n",
       "       [80],\n",
       "       [69],\n",
       "       [ 5],\n",
       "       [31],\n",
       "       [17],\n",
       "       [23],\n",
       "       [42],\n",
       "       [22],\n",
       "       [14],\n",
       "       [49],\n",
       "       [46],\n",
       "       [25],\n",
       "       [44],\n",
       "       [ 8],\n",
       "       [19],\n",
       "       [73],\n",
       "       [48],\n",
       "       [75],\n",
       "       [71],\n",
       "       [66],\n",
       "       [16],\n",
       "       [84],\n",
       "       [54],\n",
       "       [12],\n",
       "       [24],\n",
       "       [64],\n",
       "       [18],\n",
       "       [83],\n",
       "       [59],\n",
       "       [12],\n",
       "       [73],\n",
       "       [56],\n",
       "       [82],\n",
       "       [19],\n",
       "       [ 6],\n",
       "       [49],\n",
       "       [65],\n",
       "       [65],\n",
       "       [47],\n",
       "       [74],\n",
       "       [83],\n",
       "       [55],\n",
       "       [64],\n",
       "       [10],\n",
       "       [26],\n",
       "       [13],\n",
       "       [19],\n",
       "       [16],\n",
       "       [11],\n",
       "       [82],\n",
       "       [20]], dtype=int64)"
      ]
     },
     "execution_count": 56,
     "metadata": {},
     "output_type": "execute_result"
    }
   ],
   "source": [
    "x_train_age"
   ]
  },
  {
   "cell_type": "markdown",
   "id": "7a6db5a1-ae5e-4e90-9451-56f979858ad3",
   "metadata": {},
   "source": [
    "## Now Combine this All"
   ]
  },
  {
   "cell_type": "code",
   "execution_count": 61,
   "id": "b296da1e-509b-4346-b828-b3563424ea60",
   "metadata": {},
   "outputs": [
    {
     "ename": "ValueError",
     "evalue": "all the input arrays must have same number of dimensions, but the array at index 0 has 2 dimension(s) and the array at index 2 has 0 dimension(s)",
     "output_type": "error",
     "traceback": [
      "\u001b[31m---------------------------------------------------------------------------\u001b[39m",
      "\u001b[31mValueError\u001b[39m                                Traceback (most recent call last)",
      "\u001b[36mCell\u001b[39m\u001b[36m \u001b[39m\u001b[32mIn[61]\u001b[39m\u001b[32m, line 1\u001b[39m\n\u001b[32m----> \u001b[39m\u001b[32m1\u001b[39m x_train_combine=\u001b[43mnp\u001b[49m\u001b[43m.\u001b[49m\u001b[43mconcatenate\u001b[49m\u001b[43m(\u001b[49m\u001b[43m(\u001b[49m\u001b[43mx_train_age\u001b[49m\u001b[43m,\u001b[49m\u001b[43mx_train_fever\u001b[49m\u001b[43m,\u001b[49m\u001b[43mx_train_gender_city\u001b[49m\u001b[43m,\u001b[49m\u001b[43mx_train_cough\u001b[49m\u001b[43m)\u001b[49m\u001b[43m,\u001b[49m\u001b[43maxis\u001b[49m\u001b[43m=\u001b[49m\u001b[32;43m1\u001b[39;49m\u001b[43m)\u001b[49m\n\u001b[32m      3\u001b[39m x_test_combine=np.concatenate((x_test_age,x_test_fever,x_test_gender_city,x_test_cough),axis=\u001b[32m1\u001b[39m)\n",
      "\u001b[31mValueError\u001b[39m: all the input arrays must have same number of dimensions, but the array at index 0 has 2 dimension(s) and the array at index 2 has 0 dimension(s)"
     ]
    }
   ],
   "source": [
    "x_train_combine=np.concatenate((x_train_age,x_train_fever,x_train_gender_city,x_train_cough),axis=1)\n",
    "\n",
    "x_test_combine=np.concatenate((x_test_age,x_test_fever,x_test_gender_city,x_test_cough),axis=1)"
   ]
  },
  {
   "cell_type": "code",
   "execution_count": null,
   "id": "e7418ad5-dfdf-4ce1-8db9-c1b77388953e",
   "metadata": {},
   "outputs": [],
   "source": []
  }
 ],
 "metadata": {
  "kernelspec": {
   "display_name": "Python 3 (ipykernel)",
   "language": "python",
   "name": "python3"
  },
  "language_info": {
   "codemirror_mode": {
    "name": "ipython",
    "version": 3
   },
   "file_extension": ".py",
   "mimetype": "text/x-python",
   "name": "python",
   "nbconvert_exporter": "python",
   "pygments_lexer": "ipython3",
   "version": "3.12.7"
  }
 },
 "nbformat": 4,
 "nbformat_minor": 5
}
